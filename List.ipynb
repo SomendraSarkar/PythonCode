{
 "cells": [
  {
   "cell_type": "markdown",
   "metadata": {},
   "source": [
    "# Python Assignment - 3: Lists"
   ]
  },
  {
   "cell_type": "markdown",
   "metadata": {},
   "source": [
    "## Question 1\n",
    "## City = [‘Gurgaon’, ’Mumbai’, ’Bangalore’]\n",
    "## i) Print the second item from the list.\n",
    "## ii) Change the value from \"Gurgaon\" to \"Kerala\"\n",
    "## iii) Remove the last element of the list."
   ]
  },
  {
   "cell_type": "code",
   "execution_count": 26,
   "metadata": {},
   "outputs": [
    {
     "name": "stdout",
     "output_type": "stream",
     "text": [
      "Mumbai\n",
      "['Kerala', 'Mumbai', 'Bangalore']\n",
      "['Kerala', 'Mumbai']\n"
     ]
    }
   ],
   "source": [
    "City = list(('Gurgaon','Mumbai','Bangalore')) ## Declaring the list\n",
    "print(City[1]) ## 2nd item holds the index 1\n",
    "p=0\n",
    "for i in City:\n",
    "    if i == 'Gurgaon':\n",
    "        City[p]='Kerala'\n",
    "    else:\n",
    "        p+=1\n",
    "print(City) ## Dynamic in nature rather than simple replcae\n",
    "City.pop()## Last element deleted\n",
    "print(City)"
   ]
  },
  {
   "cell_type": "markdown",
   "metadata": {},
   "source": [
    "## Question 2\n",
    "## Use negative indexing to print the last item in the list. Makea list by yourself."
   ]
  },
  {
   "cell_type": "code",
   "execution_count": 17,
   "metadata": {},
   "outputs": [
    {
     "name": "stdout",
     "output_type": "stream",
     "text": [
      "(2, 3, 4, 5, 6, 7, 8, 9)\n",
      "9\n"
     ]
    }
   ],
   "source": [
    "list1 = ((2,3,4,5,6,7,8,9))\n",
    "print(list1)\n",
    "print(list1[-1])"
   ]
  },
  {
   "cell_type": "markdown",
   "metadata": {},
   "source": [
    "## Question 3\n",
    "## Use a range of indexes to print the third, fourth, and fifth\n",
    "## item in the list. Make a list by yourself."
   ]
  },
  {
   "cell_type": "code",
   "execution_count": 22,
   "metadata": {},
   "outputs": [
    {
     "name": "stdout",
     "output_type": "stream",
     "text": [
      "3rd 4th and 5th items are:  (3, 4, 5)\n"
     ]
    }
   ],
   "source": [
    "print(\"3rd 4th and 5th items are: \",list1[1:4])"
   ]
  },
  {
   "cell_type": "markdown",
   "metadata": {},
   "source": [
    "## Question 4\n",
    "## Remove the last element from the city list"
   ]
  },
  {
   "cell_type": "code",
   "execution_count": 27,
   "metadata": {},
   "outputs": [
    {
     "name": "stdout",
     "output_type": "stream",
     "text": [
      "['Kerala', 'Mumbai']\n",
      "['Kerala']\n"
     ]
    }
   ],
   "source": [
    "print(City) \n",
    "City.pop()\n",
    "print(City)"
   ]
  },
  {
   "cell_type": "markdown",
   "metadata": {},
   "source": [
    "## Question 5\n",
    "## fruits=[‘apple’,’lichi’,’guava’,’cherry’,’mango’,’watermelo\n",
    "## n’,’banana’]\n",
    "## i) Add \"orange\" at the end of the above list.\n",
    "## ii) Add \"lemon\" as the second item in the fruits list"
   ]
  },
  {
   "cell_type": "code",
   "execution_count": 31,
   "metadata": {},
   "outputs": [
    {
     "name": "stdout",
     "output_type": "stream",
     "text": [
      "['apple', 'lichi', 'guava', 'cherry', 'mango', 'watermelon', 'banana', 'orange']\n",
      "['apple', 'lemon', 'lichi', 'guava', 'cherry', 'mango', 'watermelon', 'banana', 'orange']\n"
     ]
    }
   ],
   "source": [
    "fruits = list(('apple', 'lichi','guava','cherry','mango','watermelon','banana'))\n",
    "fruits.append('orange')\n",
    "print(fruits)\n",
    "fruits.insert(1,'lemon')\n",
    "print(fruits)"
   ]
  },
  {
   "cell_type": "markdown",
   "metadata": {},
   "source": [
    "## Question 6\n",
    "## Remove ‘cherry’ from the fruit list given above."
   ]
  },
  {
   "cell_type": "code",
   "execution_count": 32,
   "metadata": {},
   "outputs": [
    {
     "name": "stdout",
     "output_type": "stream",
     "text": [
      "['apple', 'lemon', 'lichi', 'guava', 'cherry', 'mango', 'watermelon', 'banana', 'orange']\n",
      "['apple', 'lemon', 'lichi', 'guava', 'mango', 'watermelon', 'banana', 'orange']\n"
     ]
    }
   ],
   "source": [
    "print(fruits)\n",
    "fruits.remove('cherry')\n",
    "print(fruits)"
   ]
  },
  {
   "cell_type": "markdown",
   "metadata": {},
   "source": [
    "## Question 7\n",
    "## Write the python program to let the user input a list of\n",
    "## numbers and print the list in descending order."
   ]
  },
  {
   "cell_type": "code",
   "execution_count": 4,
   "metadata": {},
   "outputs": [
    {
     "name": "stdout",
     "output_type": "stream",
     "text": [
      "Enter the int: \n",
      "None8\n",
      "Want to enter more numbers: y/n:\n",
      "Noney\n",
      "Enter the int: \n",
      "None6\n",
      "Want to enter more numbers: y/n:\n",
      "Noney\n",
      "Enter the int: \n",
      "None9\n",
      "Want to enter more numbers: y/n:\n",
      "Nonen\n",
      "Befor Sorting: ['8', '6', '9']\n",
      "After Sorting: ['9', '8', '6']\n"
     ]
    }
   ],
   "source": [
    "list2=list(())\n",
    "c='y'\n",
    "while c == 'y':\n",
    "    a=input(print(\"Enter the int: \"))\n",
    "    list2.append(a)\n",
    "    c=input(print(\"Want to enter more numbers: y/n:\"))\n",
    "    \n",
    "print(\"Befor Sorting:\",list2)\n",
    "list2.sort(reverse=True)\n",
    "print(\"After Sorting:\",list2)"
   ]
  },
  {
   "cell_type": "markdown",
   "metadata": {},
   "source": [
    "## Question 8\n",
    "## Write the python program to let the user input two lists and\n",
    "## combine both the lists."
   ]
  },
  {
   "cell_type": "code",
   "execution_count": 2,
   "metadata": {},
   "outputs": [
    {
     "name": "stdout",
     "output_type": "stream",
     "text": [
      "Enter the int: \n",
      "None5\n",
      "Want to enter more numbers: y/n:\n",
      "Noney\n",
      "Enter the int: \n",
      "None6\n",
      "Want to enter more numbers: y/n:\n",
      "Nonen\n",
      "First List Elements ['5', '6']\n",
      "Enter the int: \n",
      "None8\n",
      "Want to enter more numbers: y/n:\n",
      "Nonen\n",
      "Second list Elements: ['8']\n",
      "List after concatenation: ['5', '6', '8']\n"
     ]
    }
   ],
   "source": [
    "lista=list(())\n",
    "listb=list(())\n",
    "c='y'\n",
    "while c == 'y':\n",
    "    a=input(print(\"Enter the int: \"))\n",
    "    lista.append(a)\n",
    "    c=input(print(\"Want to enter more numbers: y/n:\"))\n",
    "    \n",
    "print(\"First List Elements\",lista)\n",
    "c='y'\n",
    "while c == 'y':\n",
    "    a=input(print(\"Enter the int: \"))\n",
    "    listb.append(a)\n",
    "    c=input(print(\"Want to enter more numbers: y/n:\"))\n",
    "    \n",
    "print(\"Second list Elements:\",listb)\n",
    "print(\"List after concatenation:\",lista+listb)"
   ]
  },
  {
   "cell_type": "markdown",
   "metadata": {},
   "source": [
    "## Question 9\n",
    "## List = [10, 45, 78, 11, 9, 23]. Shuffle this list."
   ]
  },
  {
   "cell_type": "code",
   "execution_count": 1,
   "metadata": {},
   "outputs": [
    {
     "name": "stdout",
     "output_type": "stream",
     "text": [
      "Initial List: [10, 45, 78, 11, 9, 23]\n",
      "After Shuffle, List: [11, 78, 45, 9, 23, 10]\n"
     ]
    }
   ],
   "source": [
    "List = [10, 45, 78, 11, 9, 23]\n",
    "import random\n",
    "print(\"Initial List:\", List)\n",
    "random.shuffle(List)\n",
    "print(\"After Shuffle, List:\", List)"
   ]
  },
  {
   "cell_type": "markdown",
   "metadata": {},
   "source": [
    "## Question 10\n",
    "## x = [10, [3.141, 20, [30, 'baz', 2.718]], 'foo']\n",
    "## i) What is the expression that returns the 'z' in 'baz'?\n",
    "## ii) What expression returns the list ['baz', 2.718]?"
   ]
  },
  {
   "cell_type": "code",
   "execution_count": 8,
   "metadata": {},
   "outputs": [
    {
     "name": "stdout",
     "output_type": "stream",
     "text": [
      "z\n",
      "['baz', 2.718]\n"
     ]
    }
   ],
   "source": [
    "x = [10, [3.141, 20, [30, 'baz', 2.718]], 'foo']\n",
    "print(x[1][2][1][2])## Expression that returns z\n",
    "print(x[1][2][1:3])## Expression that returns  ['baz', 2.718]"
   ]
  },
  {
   "cell_type": "markdown",
   "metadata": {},
   "source": [
    "## Question 11\n",
    "## Extract element 20 from the above list."
   ]
  },
  {
   "cell_type": "code",
   "execution_count": 10,
   "metadata": {},
   "outputs": [
    {
     "name": "stdout",
     "output_type": "stream",
     "text": [
      "20\n"
     ]
    }
   ],
   "source": [
    "print(x[1][1])##Expression to return 20"
   ]
  },
  {
   "cell_type": "markdown",
   "metadata": {},
   "source": [
    "## Question 12\n",
    "## You have a list a = [1, 2, 7, 8]\n",
    "## Write a Python statement using slice assignment that will fill in\n",
    "## the missing values so that a equals [1, 2, 3, 4, 5, 6, 7, 8]"
   ]
  },
  {
   "cell_type": "code",
   "execution_count": 21,
   "metadata": {},
   "outputs": [
    {
     "name": "stdout",
     "output_type": "stream",
     "text": [
      "[1, 2, 7, 8] [3, 4, 5, 6] [1, 2, 3, 4, 5, 6, 7, 8]\n"
     ]
    }
   ],
   "source": [
    "## We can implemet this via for loop but here we will use slicing\n",
    "a = list((1, 2, 7, 8))\n",
    "b = [3,4,5,6]\n",
    "\n",
    "c=a[0:2]+b+a[2:4]\n",
    "print(a,b,c)## c is the list obatined by slicing the first two elements of a with b and then last two elements to a\n",
    "\n"
   ]
  },
  {
   "cell_type": "code",
   "execution_count": null,
   "metadata": {},
   "outputs": [],
   "source": []
  }
 ],
 "metadata": {
  "kernelspec": {
   "display_name": "Python 3",
   "language": "python",
   "name": "python3"
  },
  "language_info": {
   "codemirror_mode": {
    "name": "ipython",
    "version": 3
   },
   "file_extension": ".py",
   "mimetype": "text/x-python",
   "name": "python",
   "nbconvert_exporter": "python",
   "pygments_lexer": "ipython3",
   "version": "3.8.3"
  }
 },
 "nbformat": 4,
 "nbformat_minor": 4
}
