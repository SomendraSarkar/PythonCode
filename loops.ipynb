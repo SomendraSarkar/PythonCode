{
 "cells": [
  {
   "cell_type": "code",
   "execution_count": 5,
   "metadata": {},
   "outputs": [
    {
     "name": "stdout",
     "output_type": "stream",
     "text": [
      "0\n",
      "1\n",
      "2\n",
      "3\n",
      "4\n",
      "5\n",
      "6\n",
      "7\n",
      "8\n",
      "9\n",
      "10\n"
     ]
    }
   ],
   "source": [
    "## Solution to first question\n",
    "## Print First 10 natural numbers using while loop\n",
    "i=0\n",
    "while i<=10:\n",
    "    print(i)\n",
    "    i+=1"
   ]
  },
  {
   "cell_type": "code",
   "execution_count": 9,
   "metadata": {},
   "outputs": [
    {
     "name": "stdout",
     "output_type": "stream",
     "text": [
      "-1\n",
      "-2\n",
      "-3\n",
      "-4\n",
      "-5\n",
      "-6\n",
      "-7\n",
      "-8\n",
      "-9\n",
      "-10\n"
     ]
    }
   ],
   "source": [
    "## Solution to 2nd question\n",
    "## Display -10 to -1 using for loop\n",
    "i=-1\n",
    "while i>=-10:\n",
    "    print(i)\n",
    "    i-=1"
   ]
  },
  {
   "cell_type": "code",
   "execution_count": 12,
   "metadata": {},
   "outputs": [
    {
     "name": "stdout",
     "output_type": "stream",
     "text": [
      "Enter a number: 6\n",
      "The factorial of  0  is  720\n"
     ]
    }
   ],
   "source": [
    "## Solution to 3rd question\n",
    "## Write a python program to print the factorial of a given number\n",
    "a=int(input(\"Enter a number: \"))\n",
    "Factorial = 1\n",
    "while a>0:\n",
    "    Factorial*=a\n",
    "    a-=1\n",
    "print(\"The factorial of \",a,\" is \", Factorial)"
   ]
  },
  {
   "cell_type": "code",
   "execution_count": 26,
   "metadata": {},
   "outputs": [
    {
     "name": "stdout",
     "output_type": "stream",
     "text": [
      " 2   3   5   7   11   13   17   19   23   29   31   37   41   43   47   53   59   61   67   71   73   79   83   89   97   Total prime in between 1-100 is  25\n"
     ]
    }
   ],
   "source": [
    "## Solution to 4th question\n",
    "## Write a python program to print all prime numbers between 0 to 100 , and print how many prime numbers are there.\n",
    "prime=[]\n",
    "for Number in range (1, 101):\n",
    "    count = 0\n",
    "    for i in range(2, (Number//2 + 1)):\n",
    "        if(Number % i == 0):\n",
    "            count = count + 1\n",
    "            break\n",
    "\n",
    "    if (count == 0 and Number != 1):\n",
    "        print(\" %d\" %Number, end = '  ')\n",
    "        prime.append(Number)\n",
    "\n",
    "print(\"Total prime in between 1-100 is \",len(prime))\n",
    "        \n",
    "#prime=[]\n",
    "#for a in range (1,101):\n",
    " #   b=a-1\n",
    "  #  flag=1\n",
    "   # while b > 1:\n",
    "    #    if b%a==0:\n",
    "     #       flag=0\n",
    "     #   b-=1\n",
    "    #if flag==1:\n",
    "     #   prime.append(a)\n",
    "#print(\"Prime numbers are \", prime)"
   ]
  },
  {
   "cell_type": "code",
   "execution_count": 21,
   "metadata": {},
   "outputs": [
    {
     "name": "stdout",
     "output_type": "stream",
     "text": [
      "Prime numbers are  [1, 2, 3, 4, 5, 6, 7, 8, 9, 10, 11, 12, 13, 14, 15, 16, 17, 18, 19, 20, 21, 22, 23, 24, 25, 26, 27, 28, 29, 30, 31, 32, 33, 34, 35, 36, 37, 38, 39, 40, 41, 42, 43, 44, 45, 46, 47, 48, 49, 50, 51, 52, 53, 54, 55, 56, 57, 58, 59, 60, 61, 62, 63, 64, 65, 66, 67, 68, 69, 70, 71, 72, 73, 74, 75, 76, 77, 78, 79, 80, 81, 82, 83, 84, 85, 86, 87, 88, 89, 90, 91, 92, 93, 94, 95, 96, 97, 98, 99, 100]\n"
     ]
    }
   ],
   "source": [
    "## Solution to 4th question\n",
    "## Write a python program to print all prime numbers between 0 to 100 , and print how many prime numbers are there.\n",
    "prime=[]\n",
    "for a in range (1,101):\n",
    "    b=a-1\n",
    "    flag=1\n",
    "    while b > 1:\n",
    "        if b%a==0:\n",
    "            flag=0\n",
    "        b-=1\n",
    "    if flag==1:\n",
    "        prime.append(a)\n",
    "print(\"Prime numbers are \", prime)"
   ]
  },
  {
   "cell_type": "code",
   "execution_count": 3,
   "metadata": {},
   "outputs": [
    {
     "name": "stdout",
     "output_type": "stream",
     "text": [
      "1 \n",
      "1 2 \n",
      "1 2 3 \n",
      "1 2 3 4 \n",
      "1 2 3 4 5 \n"
     ]
    }
   ],
   "source": [
    "#Solution to 5th Question\n",
    "rows = 5\n",
    "for row in range(1, rows+1): # To print the row\n",
    "    for column in range(1, row + 1):\n",
    "        print(column, end=' ') # Value of Column will be printed along with a space, when loop is over it will go to next line\n",
    "    print(\"\")"
   ]
  },
  {
   "cell_type": "code",
   "execution_count": 9,
   "metadata": {},
   "outputs": [
    {
     "name": "stdout",
     "output_type": "stream",
     "text": [
      "Enter a number: 5\n",
      "Sum of all the number from 1 -  5  is: 15\n"
     ]
    }
   ],
   "source": [
    "# Solution to 6th Question:-\n",
    "##Accept n number from user and calculate the sum of all number between 1 and n including n\n",
    "n=int(input(\"Enter a number: \"))\n",
    "Sum = 0\n",
    "for i in range(1,n+1):\n",
    "    Sum+=i\n",
    "print(\"Sum of all the number from 1 - \",n,\" is:\",Sum)"
   ]
  },
  {
   "cell_type": "code",
   "execution_count": 13,
   "metadata": {},
   "outputs": [
    {
     "name": "stdout",
     "output_type": "stream",
     "text": [
      "Enter a number: 987\n",
      "The number of digit is 3\n"
     ]
    }
   ],
   "source": [
    "## Solution to 7th Question\n",
    "# Given a number count the total number of digits in a number.\n",
    "n=int(input(\"Enter a number: \"))\n",
    "Count=0\n",
    "while n> 0:\n",
    "    n=n//10\n",
    "    Count+=1\n",
    "print(\"The number of digit is\", Count)"
   ]
  },
  {
   "cell_type": "code",
   "execution_count": 20,
   "metadata": {},
   "outputs": [
    {
     "name": "stdout",
     "output_type": "stream",
     "text": [
      "\t\t\tMultiplication Table\n",
      "\n",
      "1\t2\t3\t4\t5\t6\t7\t8\t9\t10\t\n",
      "------------------------------------------------------------------------------\n",
      "1\t2\t3\t4\t5\t6\t7\t8\t9\t10\t\n",
      "\n",
      "2\t4\t6\t8\t10\t12\t14\t16\t18\t20\t\n",
      "\n",
      "3\t6\t9\t12\t15\t18\t21\t24\t27\t30\t\n",
      "\n",
      "4\t8\t12\t16\t20\t24\t28\t32\t36\t40\t\n",
      "\n",
      "5\t10\t15\t20\t25\t30\t35\t40\t45\t50\t\n",
      "\n",
      "6\t12\t18\t24\t30\t36\t42\t48\t54\t60\t\n",
      "\n",
      "7\t14\t21\t28\t35\t42\t49\t56\t63\t70\t\n",
      "\n",
      "8\t16\t24\t32\t40\t48\t56\t64\t72\t80\t\n",
      "\n",
      "9\t18\t27\t36\t45\t54\t63\t72\t81\t90\t\n",
      "\n",
      "10\t20\t30\t40\t50\t60\t70\t80\t90\t100\t\n",
      "\n"
     ]
    }
   ],
   "source": [
    "## Solution to 8tyh Question\n",
    "## Multiplication Table\n",
    "print(\"\\t\\t\\tMultiplication Table\\n\")\n",
    "for i in range(1,11):\n",
    "    print(i, end=\"\\t\")\n",
    "print()\n",
    "print(\"------------------------------------------------------------------------------\")\n",
    "for j in range(1,11):\n",
    "    for k in range(1,11):\n",
    "        print(j*k, end=\"\\t\")\n",
    "    print(\"\\n\")"
   ]
  },
  {
   "cell_type": "code",
   "execution_count": 23,
   "metadata": {},
   "outputs": [
    {
     "name": "stdout",
     "output_type": "stream",
     "text": [
      "List Before reverse:  [10, 20, 30, 40, 50]\n",
      "List after reverse:  [50, 40, 30, 20, 10]\n"
     ]
    }
   ],
   "source": [
    "## Solution to 9th Question\n",
    "## Reverse the following list using for loop\n",
    "## list1 = [10, 20, 30, 40, 50]\n",
    "list1 = [10, 20, 30, 40, 50]\n",
    "print(\"List Before reverse: \",list1)\n",
    "list1.reverse()\n",
    "print(\"List after reverse: \",list1)"
   ]
  },
  {
   "cell_type": "code",
   "execution_count": 28,
   "metadata": {},
   "outputs": [
    {
     "name": "stdout",
     "output_type": "stream",
     "text": [
      "* \n",
      "* * \n",
      "* * * \n",
      "* * * * \n",
      "* * * * * \n",
      "* * * * * \n",
      "* * * * \n",
      "* * * \n",
      "* * \n",
      "* \n"
     ]
    }
   ],
   "source": [
    "# Creating Pattern\n",
    "for i in range(0, 5):\n",
    "    for j in range(0, i+1):\n",
    "        print(\"* \",end=\"\")\n",
    "    print()\n",
    "for i in range(0, 5):\n",
    "    for j in range(5, i, -1):\n",
    "        print(\"* \", end=\"\")\n",
    "    print()"
   ]
  },
  {
   "cell_type": "code",
   "execution_count": 30,
   "metadata": {},
   "outputs": [
    {
     "name": "stdout",
     "output_type": "stream",
     "text": [
      "Input a string: 6E67hg\n",
      "Letters 3\n",
      "Digits 3\n"
     ]
    }
   ],
   "source": [
    "# String to give total number/Letter\n",
    "str = input(\"Input a string: \")\n",
    "d=l=0\n",
    "for c in str:\n",
    "    if c.isdigit():\n",
    "        d=d+1\n",
    "    elif c.isalpha():\n",
    "        l=l+1\n",
    "    else:\n",
    "        pass\n",
    "print(\"Letters\", l)\n",
    "print(\"Digits\", d)"
   ]
  },
  {
   "cell_type": "code",
   "execution_count": null,
   "metadata": {},
   "outputs": [],
   "source": [
    "## List to store int Char separately\n",
    "w=[2, 3.0,4.3,\"hello world\", 5, 4.3]\n",
    "x=[]\n",
    "y=[]\n",
    "z=[]\n",
    "\n",
    "for i in w:\n",
    "    if type(i)==int:\n",
    "        x.append(i)\n",
    "    elif type(i)==float:\n",
    "        y.append(i)\n",
    "    elif type(i)==str:\n",
    "        z.append(i)\n",
    "print(x)\n",
    "print(y)\n",
    "print(z)"
   ]
  },
  {
   "cell_type": "code",
   "execution_count": null,
   "metadata": {},
   "outputs": [],
   "source": []
  }
 ],
 "metadata": {
  "kernelspec": {
   "display_name": "Python 3",
   "language": "python",
   "name": "python3"
  },
  "language_info": {
   "codemirror_mode": {
    "name": "ipython",
    "version": 3
   },
   "file_extension": ".py",
   "mimetype": "text/x-python",
   "name": "python",
   "nbconvert_exporter": "python",
   "pygments_lexer": "ipython3",
   "version": "3.8.3"
  }
 },
 "nbformat": 4,
 "nbformat_minor": 4
}
