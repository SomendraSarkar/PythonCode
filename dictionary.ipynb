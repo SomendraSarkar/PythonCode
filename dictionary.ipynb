{
 "cells": [
  {
   "cell_type": "markdown",
   "metadata": {},
   "source": [
    "# Python Assignment - 4: Dictionary"
   ]
  },
  {
   "cell_type": "markdown",
   "metadata": {},
   "source": [
    "## Question 1\n",
    "## Given a dictionary:\n",
    "## car = {\"brand\": \"Ford”, “model\":\"Mustang\",\"year\":1964}\n",
    "## Print the value of the \"model\" key of the car dictionary."
   ]
  },
  {
   "cell_type": "code",
   "execution_count": 5,
   "metadata": {},
   "outputs": [
    {
     "name": "stdout",
     "output_type": "stream",
     "text": [
      "Mustang\n"
     ]
    }
   ],
   "source": [
    "car = {\"brand\" : \"Ford\", \"model\" : \"Mustang\", \"year\" : 1964 }\n",
    "print(car[\"model\"])"
   ]
  },
  {
   "cell_type": "markdown",
   "metadata": {},
   "source": [
    "## Question 2\n",
    "## Change the \"year\" value from 1964 to 2020."
   ]
  },
  {
   "cell_type": "code",
   "execution_count": 6,
   "metadata": {},
   "outputs": [
    {
     "name": "stdout",
     "output_type": "stream",
     "text": [
      "{'brand': 'Ford', 'model': 'Mustang', 'year': 2020}\n"
     ]
    }
   ],
   "source": [
    "car[\"year\"] = 2020\n",
    "print(car)"
   ]
  },
  {
   "cell_type": "markdown",
   "metadata": {},
   "source": [
    "## Question 3\n",
    "## Add the key/value pair \"colour”: \"red\" to the car dictionary"
   ]
  },
  {
   "cell_type": "code",
   "execution_count": 8,
   "metadata": {},
   "outputs": [
    {
     "name": "stdout",
     "output_type": "stream",
     "text": [
      "{'brand': 'Ford', 'model': 'Mustang', 'year': 2020, 'colour': 'red'}\n"
     ]
    }
   ],
   "source": [
    "car[\"colour\"] = \"red\"\n",
    "print(car)"
   ]
  },
  {
   "cell_type": "markdown",
   "metadata": {},
   "source": [
    "## Question 4\n",
    "## Given a dictionary inventory :\n",
    "## inventory = {'gold' : 500, 'pouch' : ['flint', 'twine', 'gemstone'],\n",
    "## 'backpack' : ['xylophone’, ‘dagger', 'bedroll’, ‘bread’, ‘loaf']}\n",
    "## Add a key to inventory called 'pocket' and Set the value of\n",
    "## 'pocket' to be a list consisting of the strings 'seashell', 'strange\n",
    "## berry', and 'lint'."
   ]
  },
  {
   "cell_type": "code",
   "execution_count": 19,
   "metadata": {},
   "outputs": [
    {
     "name": "stdout",
     "output_type": "stream",
     "text": [
      "{'gold': 500, 'pouch': ['flint', 'twine', 'gemstone'], 'backpack': ['xylophone', 'dagger', 'bedroll', 'bread', 'loaf']}\n",
      "{'gold': 500, 'pouch': ['flint', 'twine', 'gemstone'], 'backpack': ['xylophone', 'dagger', 'bedroll', 'bread', 'loaf'], 'pocket': ['seashell', 'strange berry', 'lint']}\n"
     ]
    }
   ],
   "source": [
    "inventory = {'gold' : 500, 'pouch': ['flint','twine','gemstone'], \n",
    "             'backpack':['xylophone','dagger','bedroll','bread', 'loaf',]}\n",
    "print(inventory)\n",
    "inventory[\"pocket\"]=['seashell','strange berry','lint']\n",
    "print(inventory)"
   ]
  },
  {
   "cell_type": "markdown",
   "metadata": {},
   "source": [
    "## Question 5\n",
    "## Sort the items in the list stored under the 'backpack' key."
   ]
  },
  {
   "cell_type": "code",
   "execution_count": 20,
   "metadata": {},
   "outputs": [
    {
     "name": "stdout",
     "output_type": "stream",
     "text": [
      "{'gold': 500, 'pouch': ['flint', 'twine', 'gemstone'], 'backpack': ['bedroll', 'bread', 'dagger', 'loaf', 'xylophone'], 'pocket': ['seashell', 'strange berry', 'lint']}\n"
     ]
    }
   ],
   "source": [
    "inventory[\"backpack\"].sort()\n",
    "print(inventory)"
   ]
  },
  {
   "cell_type": "markdown",
   "metadata": {},
   "source": [
    "## Question 6\n",
    "## Remove 'dagger' from the list of items stored under the\n",
    "## 'backpack' key."
   ]
  },
  {
   "cell_type": "code",
   "execution_count": 21,
   "metadata": {},
   "outputs": [
    {
     "name": "stdout",
     "output_type": "stream",
     "text": [
      "['bedroll', 'bread', 'dagger', 'loaf', 'xylophone']\n",
      "{'gold': 500, 'pouch': ['flint', 'twine', 'gemstone'], 'backpack': ['bedroll', 'bread', 'loaf', 'xylophone'], 'pocket': ['seashell', 'strange berry', 'lint']}\n"
     ]
    }
   ],
   "source": [
    "print(inventory[\"backpack\"])\n",
    "inventory[\"backpack\"].remove('dagger')\n",
    "print(inventory)"
   ]
  },
  {
   "cell_type": "markdown",
   "metadata": {},
   "source": [
    "## Question 7\n",
    "## Add 50 to the number stored under the 'gold' key."
   ]
  },
  {
   "cell_type": "code",
   "execution_count": 22,
   "metadata": {},
   "outputs": [
    {
     "name": "stdout",
     "output_type": "stream",
     "text": [
      "{'gold': 550, 'pouch': ['flint', 'twine', 'gemstone'], 'backpack': ['bedroll', 'bread', 'loaf', 'xylophone'], 'pocket': ['seashell', 'strange berry', 'lint']}\n"
     ]
    }
   ],
   "source": [
    "inventory['gold']+= 50\n",
    "print(inventory)"
   ]
  },
  {
   "cell_type": "markdown",
   "metadata": {},
   "source": [
    "## Question 8\n",
    "## Write a Python script to concatenate three dictionaries to create\n",
    "## a new one. Make dictionaries yourself."
   ]
  },
  {
   "cell_type": "code",
   "execution_count": 27,
   "metadata": {},
   "outputs": [
    {
     "name": "stdout",
     "output_type": "stream",
     "text": [
      "{'one': 1, 'two': 2, 'three': 3, 'eins': 1, 'zwei': 2, 'drei': 3, 'un': 1, 'deux': 2, 'trois': 3}\n"
     ]
    }
   ],
   "source": [
    "dicteng = {\"one\": 1 , \"two\" : 2, \"three\" : 3}\n",
    "dictger = {\"eins\": 1 , \"zwei\" : 2, \"drei\" : 3}\n",
    "dictfre = {\"un\": 1 , \"deux\" : 2, \"trois\" : 3}\n",
    "dict_concat = dicteng\n",
    "dict_concat.update(dictger)\n",
    "dict_concat.update(dictfre)\n",
    "print(dict_concat)\n"
   ]
  },
  {
   "cell_type": "markdown",
   "metadata": {},
   "source": [
    "## Question 9\n",
    "## Write a Python program to sum all the items in a dictionary."
   ]
  },
  {
   "cell_type": "code",
   "execution_count": 30,
   "metadata": {},
   "outputs": [
    {
     "name": "stdout",
     "output_type": "stream",
     "text": [
      "{'one': 1, 'two': 2, 'three': 3, 'eins': 1, 'zwei': 2, 'drei': 3, 'un': 1, 'deux': 2, 'trois': 3}\n",
      "18\n"
     ]
    }
   ],
   "source": [
    "## using dict_concat for the solution, any other dictionary with numbers in their values can b used\n",
    "print(dict_concat)\n",
    "sum = 0\n",
    "for i in dict_concat:\n",
    "    sum += dict_concat[i]\n",
    "print(sum)"
   ]
  },
  {
   "cell_type": "markdown",
   "metadata": {},
   "source": [
    "## Question 10\n",
    "## Write a Python script to check whether a given key already\n",
    "## exists in a dictionary.\n",
    "## d = {'foo': 100, 'bar': 200, 'baz': 300}"
   ]
  },
  {
   "cell_type": "code",
   "execution_count": 35,
   "metadata": {},
   "outputs": [
    {
     "name": "stdout",
     "output_type": "stream",
     "text": [
      "Enetr the key you want to search in the dictionary: \n",
      "Nonefoo\n",
      "foo  is present in the dictionary d\n"
     ]
    }
   ],
   "source": [
    "d = {'foo': 100, 'bar': 200, 'baz': 300}\n",
    "flag = 0\n",
    "k = input(print(\"Enetr the key you want to search in the dictionary: \"))\n",
    "for i in d:\n",
    "    if i == k:\n",
    "        print(k,\" is present in the dictionary d\")\n",
    "        flag = 1\n",
    "        break;\n",
    "if flag == 0:\n",
    "    print(k, \" is not present\")"
   ]
  },
  {
   "cell_type": "markdown",
   "metadata": {},
   "source": [
    "## Question 11\n",
    "## What method call will delete the entry whose value is 200?\n"
   ]
  },
  {
   "cell_type": "code",
   "execution_count": 39,
   "metadata": {},
   "outputs": [
    {
     "name": "stdout",
     "output_type": "stream",
     "text": [
      "{'foo': 100, 'bar': 200, 'baz': 300}\n",
      "{'foo': 100, 'baz': 300}\n"
     ]
    }
   ],
   "source": [
    "## We can use delete or pop, i am going to use pop method in a loop\n",
    "d = {'foo': 100, 'bar': 200, 'baz': 300}\n",
    "print(d)\n",
    "l = list \n",
    "for i in list(d.keys()):\n",
    "    if d[i]==200:\n",
    "        d.pop(i)\n",
    "print(d)"
   ]
  },
  {
   "cell_type": "markdown",
   "metadata": {},
   "source": [
    "## Quetion 12\n",
    "## Write a Python program to check multiple keys exists in a\n",
    "## dictionary."
   ]
  },
  {
   "cell_type": "code",
   "execution_count": 45,
   "metadata": {},
   "outputs": [
    {
     "name": "stdout",
     "output_type": "stream",
     "text": [
      "True\n",
      "False\n"
     ]
    }
   ],
   "source": [
    "d = {'foo': 100, 'bar': 200, 'baz': 300, 'boo':340}\n",
    "print(d.keys() >= {\"foo\",\"boo\"})\n",
    "print(d.keys() >= {\"foo\",\"moo\"})"
   ]
  },
  {
   "cell_type": "code",
   "execution_count": null,
   "metadata": {},
   "outputs": [],
   "source": []
  }
 ],
 "metadata": {
  "kernelspec": {
   "display_name": "Python 3",
   "language": "python",
   "name": "python3"
  },
  "language_info": {
   "codemirror_mode": {
    "name": "ipython",
    "version": 3
   },
   "file_extension": ".py",
   "mimetype": "text/x-python",
   "name": "python",
   "nbconvert_exporter": "python",
   "pygments_lexer": "ipython3",
   "version": "3.8.3"
  }
 },
 "nbformat": 4,
 "nbformat_minor": 4
}
