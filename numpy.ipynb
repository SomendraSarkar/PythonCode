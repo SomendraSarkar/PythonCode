{
 "cells": [
  {
   "cell_type": "code",
   "execution_count": 15,
   "metadata": {},
   "outputs": [
    {
     "name": "stdout",
     "output_type": "stream",
     "text": [
      "[100 110 120 130 140 150 160 170 180 190]\n",
      "[[100 110]\n",
      " [120 130]\n",
      " [140 150]\n",
      " [160 170]\n",
      " [180 190]]\n",
      "[[179 140]\n",
      " [163 112]\n",
      " [167 103]\n",
      " [104 140]\n",
      " [109 100]]\n"
     ]
    },
    {
     "data": {
      "text/plain": [
       "2"
      ]
     },
     "execution_count": 15,
     "metadata": {},
     "output_type": "execute_result"
    }
   ],
   "source": [
    "import numpy as np\n",
    "#Solution to first question\n",
    "arange_array = np.arange(100, 200, 10)\n",
    "print(arange_array)\n",
    "B = np.reshape(arange_array, (-1, 2))\n",
    "print(B)(5*2 matrix)\n"
   ]
  },
  {
   "cell_type": "code",
   "execution_count": 20,
   "metadata": {},
   "outputs": [
    {
     "name": "stdout",
     "output_type": "stream",
     "text": [
      "[[[0.44864235 0.82810329 0.08651417]\n",
      "  [0.02790486 0.70539526 0.46577082]\n",
      "  [0.96626602 0.70749699 0.72859882]]\n",
      "\n",
      " [[0.36218817 0.52548836 0.68061541]\n",
      "  [0.03396791 0.94965418 0.52049785]\n",
      "  [0.31733859 0.87067987 0.22894943]]\n",
      "\n",
      " [[0.22143775 0.92051043 0.99622309]\n",
      "  [0.20082204 0.88519963 0.17712888]\n",
      "  [0.08620573 0.63083519 0.98888112]]]\n",
      "Max Value 0.9962230928392527\n",
      "Min Value 0.027904863549143788\n"
     ]
    }
   ],
   "source": [
    "#Solution to 2nd Question\n",
    "x = np.random.random((3,3,3))\n",
    "print(x)\n",
    "maxval=np.max(x)\n",
    "minval=np.min(x)\n",
    "print(\"Max Value\",maxval)\n",
    "print(\"Min Value\",minval)"
   ]
  },
  {
   "cell_type": "code",
   "execution_count": 21,
   "metadata": {},
   "outputs": [
    {
     "name": "stdout",
     "output_type": "stream",
     "text": [
      "[[1 0 0 0 0]\n",
      " [0 2 0 0 0]\n",
      " [0 0 3 0 0]\n",
      " [0 0 0 4 0]\n",
      " [0 0 0 0 5]]\n"
     ]
    }
   ],
   "source": [
    "#Solution to 3rd Question\n",
    "Z = np.diag([1, 2, 3, 4, 5])\n",
    "print(Z)"
   ]
  },
  {
   "cell_type": "code",
   "execution_count": 29,
   "metadata": {},
   "outputs": [
    {
     "name": "stdout",
     "output_type": "stream",
     "text": [
      "[1 3 5 7 7 9]\n"
     ]
    }
   ],
   "source": [
    "# Solution to Extract all odd numbers from arr\n",
    "a = np.array([1,2,3,4,5,6,6,7,7,8,9])\n",
    "b= a[a % 2 == 1]\n",
    "print(\"All odd numbers in b\",b)"
   ]
  },
  {
   "cell_type": "code",
   "execution_count": 27,
   "metadata": {},
   "outputs": [
    {
     "name": "stdout",
     "output_type": "stream",
     "text": [
      "[-1  2 -1  4 -1  6  6 -1 -1  8 -1]\n"
     ]
    }
   ],
   "source": [
    "# Solution to Replace all odd numbers in arr with -1\n",
    "odd_values = (a%2 == 1) \n",
    "a[odd_values] = -1\n",
    "print(a)"
   ]
  },
  {
   "cell_type": "code",
   "execution_count": 30,
   "metadata": {},
   "outputs": [
    {
     "name": "stdout",
     "output_type": "stream",
     "text": [
      "[[1 0 0]\n",
      " [0 1 0]\n",
      " [0 0 1]]\n"
     ]
    }
   ],
   "source": [
    "# Solution to Question 5.Write a NumPy program to create a 3x3 identity matrix,\n",
    "# i.e. diagonal elements are 1,the rest are 0.\n",
    "D = np.diag([1, 1, 1])\n",
    "print(D)"
   ]
  },
  {
   "cell_type": "code",
   "execution_count": 34,
   "metadata": {},
   "outputs": [
    {
     "name": "stdout",
     "output_type": "stream",
     "text": [
      "[[1 2]\n",
      " [3 4]\n",
      " [5 6]]\n",
      "int32\n",
      " A Float Array: \n",
      " [[1. 2.]\n",
      " [3. 4.]\n",
      " [5. 6.]]\n",
      "float64\n"
     ]
    }
   ],
   "source": [
    "# Soltion to question 6 Write a NumPy program to convert an array to a float\n",
    "# type.\n",
    "arr_fl = np.array([[1,2], [3,4], [5,6]])\n",
    "print( arr_fl)\n",
    "print(arr_fl.dtype)\n",
    "\n",
    "\n",
    "arr_fl = np.array([[1,2], [3,4], [5,6]] , dtype = np.float64)\n",
    "print(\" A Float Array: \\n\" , arr_fl)\n",
    "print(arr_fl.dtype)"
   ]
  },
  {
   "cell_type": "code",
   "execution_count": 35,
   "metadata": {},
   "outputs": [
    {
     "name": "stdout",
     "output_type": "stream",
     "text": [
      "[ 1.38684547  0.36190715 -0.6503964  -0.01799294  0.88585466]\n"
     ]
    }
   ],
   "source": [
    "# Solution to question 7 Write a NumPy program to generate five random\n",
    "# numbers from the normal distribution.\n",
    "x = np.random.normal(size=5)\n",
    "print(x)"
   ]
  },
  {
   "cell_type": "code",
   "execution_count": 58,
   "metadata": {},
   "outputs": [
    {
     "name": "stdout",
     "output_type": "stream",
     "text": [
      "[[34 43 73]\n",
      " [82 22 12]\n",
      " [53 94 66]]\n",
      "After overwriting 2nd column\n",
      " [[34 10 73]\n",
      " [82 10 12]\n",
      " [53 10 66]]\n"
     ]
    }
   ],
   "source": [
    "# Solution to question 8 Following is the input NumPy array delete column two\n",
    "# and insert following new column in its place.\n",
    "sampleArray=np.array([[34,43,73],[82,22,12],[53,94,66]])\n",
    "print(sampleArray)\n",
    "sampleArray[0,1]=sampleArray[1,1]=sampleArray[2,1]=10\n",
    "print(\"After overwriting 2nd column\\n\",sampleArray)"
   ]
  },
  {
   "cell_type": "code",
   "execution_count": 63,
   "metadata": {},
   "outputs": [
    {
     "name": "stdout",
     "output_type": "stream",
     "text": [
      "original matrix:\n",
      "[[1, 4], [3, 1]]\n",
      "[[1], [3]]\n",
      "Result of the said matrix multiplication:\n",
      "[[13]\n",
      " [ 6]]\n",
      "[[1 4]\n",
      " [9 3]]\n"
     ]
    }
   ],
   "source": [
    "# Solution of Question 9 Write a NumPy program to compute the multiplication\n",
    "# of two given matrices.\n",
    "p = [[1, 4], [3, 1]]\n",
    "q = [[1], [3]]\n",
    "print(\"original matrix:\")\n",
    "print(p)\n",
    "print(q)\n",
    "result1 = np.dot(p, q)\n",
    "result2 = np.multiply(p, q)\n",
    "print(\"Result of the said matrix multiplication:\")\n",
    "print(result1)# Dot product Please Ignore\n",
    "print(result2)# aCtual Result"
   ]
  },
  {
   "cell_type": "code",
   "execution_count": 64,
   "metadata": {},
   "outputs": [
    {
     "name": "stdout",
     "output_type": "stream",
     "text": [
      "Original array:\n",
      "[0.72854546 0.00251629 0.2395587  0.34955055 0.62280634 0.8636066\n",
      " 0.42315401 0.88611135 0.40876443 0.73678658]\n",
      "Sorted array:\n",
      "[0.00251629 0.2395587  0.34955055 0.40876443 0.42315401 0.62280634\n",
      " 0.72854546 0.73678658 0.8636066  0.88611135]\n"
     ]
    }
   ],
   "source": [
    "# Solution to Question 10 Write a NumPy program to create a random vector of\n",
    "# size 10 and sort it.\n",
    "x = np.random.random(10)\n",
    "print(\"Original array:\")\n",
    "print(x)\n",
    "x.sort()\n",
    "print(\"Sorted array:\")\n",
    "print(x)"
   ]
  },
  {
   "cell_type": "code",
   "execution_count": 68,
   "metadata": {},
   "outputs": [
    {
     "name": "stdout",
     "output_type": "stream",
     "text": [
      "\n",
      "Run Scored:\n",
      "[ 0 56 37]\n",
      "\n",
      "Balls Faced:\n",
      "[ 6 27 25]\n",
      "\n",
      "Covariance matrix of the said arrays:\n",
      " [[811.         319.5       ]\n",
      " [319.5        134.33333333]]\n"
     ]
    }
   ],
   "source": [
    "# Solution to question 10 Write a NumPy program to compute the covariance\n",
    "# matrix of two arrays.\n",
    "Run = np.array([0, 56, 40, 10])\n",
    "Balls = np.array([6, 27, 28, 6])\n",
    "print(\"\\nRun Scored:\")\n",
    "print(x)\n",
    "print(\"\\nBalls Faced:\")\n",
    "print(y)\n",
    "print(\"\\nCovariance matrix of the said arrays:\\n\",np.cov(x, y))"
   ]
  },
  {
   "cell_type": "code",
   "execution_count": 76,
   "metadata": {},
   "outputs": [
    {
     "name": "stdout",
     "output_type": "stream",
     "text": [
      "Actual Array\n",
      " [[1 4]\n",
      " [3 1]\n",
      " [2 4]\n",
      " [3 3]]\n",
      "\n",
      " Shape :  (4, 2)\n",
      "\n",
      " Dimension :  2\n",
      "\n",
      " Length of each element of the array :  4\n"
     ]
    }
   ],
   "source": [
    "# Solution of Question 12 12.Create a 4X2 integer array and Prints its\n",
    "# i)The shape of an array.\n",
    "# ii) Array dimensions.\n",
    "# iii) The Length of each element of the array in bytes\n",
    "a=  np.array([[1, 4], [3, 1], [2,4],[3,3]])\n",
    "print(\"Actual Array\\n\",a)\n",
    "print(\"\\n Shape : \" , a.shape)\n",
    "print(\"\\n Dimension : \" , a.ndim)\n",
    "print(\"\\n Length of each element of the array : \", a.itemsize)"
   ]
  },
  {
   "cell_type": "code",
   "execution_count": 79,
   "metadata": {},
   "outputs": [
    {
     "name": "stdout",
     "output_type": "stream",
     "text": [
      "Array1:\n",
      "['Virat' 'Shreyas']\n",
      "Array2:\n",
      "[' Kohli' ' Iyer']\n",
      "new array:\n",
      "['Virat Kohli' 'Shreyas Iyer']\n"
     ]
    }
   ],
   "source": [
    "#Solution to question 13 Write a NumPy program to concatenate element-wise\n",
    "# two arrays of string.\n",
    "x1 = np.array(['Virat', 'Shreyas'], dtype=np.str)\n",
    "x2 = np.array([' Kohli', ' Iyer'], dtype=np.str)\n",
    "print(\"Array1:\")\n",
    "print(x1)\n",
    "print(\"Array2:\")\n",
    "print(x2)\n",
    "new_array = np.char.add(x1, x2)\n",
    "print(\"new array:\")\n",
    "print(new_array)"
   ]
  },
  {
   "cell_type": "code",
   "execution_count": 89,
   "metadata": {},
   "outputs": [
    {
     "name": "stdout",
     "output_type": "stream",
     "text": [
      "['I am watching cricket match.']\n",
      "Original Array\n",
      " ['Virat Kohli' 'Shreyas Iyer']\n",
      "Lower Case\n",
      " ['virat kohli' 'shreyas iyer']\n",
      "uper Case\n",
      " ['VIRAT KOHLI' 'SHREYAS IYER']\n",
      "Swap Case\n",
      " ['vIRAT kOHLI' 'sHREYAS iYER']\n",
      "Array before Title case\n",
      " ['i am watching cricket match.']\n",
      "Title Case\n",
      " ['I Am Watching Cricket Match.']\n"
     ]
    }
   ],
   "source": [
    "# Solution to Question 14 Write a NumPy program to capitalize the first letter,\n",
    "# lowercase, uppercase, swapcase, title-case of all the\n",
    "# elements of a given array.\n",
    "a=np.array(['i am watching cricket match.'])\n",
    "print(np.char.capitalize(a))\n",
    "print(\"Original Array\\n\", new_array)\n",
    "l=np.char.lower(new_array)\n",
    "print(\"Lower Case\\n\",l)\n",
    "au=np.char.upper(new_array)\n",
    "print(\"uper Case\\n\",u)\n",
    "s=  np.char.swapcase(new_array)\n",
    "print(\"Swap Case\\n\",s)\n",
    "t = np.char.title(a)\n",
    "print(\"Array before Title case\\n\",a)\n",
    "print(\"Title Case\\n\",t)"
   ]
  },
  {
   "cell_type": "code",
   "execution_count": 90,
   "metadata": {},
   "outputs": [
    {
     "name": "stdout",
     "output_type": "stream",
     "text": [
      "NumPy Array: [11 21 19]\n",
      "<class 'numpy.ndarray'>\n",
      "List: [11, 21, 19]\n",
      "<class 'list'>\n"
     ]
    }
   ],
   "source": [
    "# Solution to Question 15 Write a NumPy program to convert a given array into\n",
    "# a list.\n",
    "arr = np.array([11, 21, 19])\n",
    "print(f'NumPy Array: {arr}')\n",
    "print(type(arr))\n",
    "\n",
    "list1 = arr.tolist()\n",
    "print(f'List: {list1}')\n",
    "print(type(list1))"
   ]
  },
  {
   "cell_type": "code",
   "execution_count": 94,
   "metadata": {},
   "outputs": [
    {
     "name": "stdout",
     "output_type": "stream",
     "text": [
      "Original array:\n",
      "[[5 1 8]\n",
      " [2 3 4]\n",
      " [7 6 4]]\n",
      "Sum of all elements:\n",
      "40\n",
      "Sum of each column:\n",
      "[14 10 16]\n",
      "Sum of each row:\n",
      "[14  9 17]\n"
     ]
    }
   ],
   "source": [
    "# Solution to Question 16 Write a NumPy program to compute the sum of all\n",
    "# elements, sum of each column and sum of each row of a\n",
    "# given array.\n",
    "x = np.array([[5,1,8],[2,3,4],[7,6,4]])\n",
    "print(\"Original array:\")\n",
    "print(x)\n",
    "print(\"Sum of all elements:\")\n",
    "print(np.sum(x))\n",
    "print(\"Sum of each column:\")\n",
    "print(np.sum(x, axis=0))\n",
    "print(\"Sum of each row:\")\n",
    "print(np.sum(x, axis=1))"
   ]
  },
  {
   "cell_type": "code",
   "execution_count": 96,
   "metadata": {},
   "outputs": [
    {
     "name": "stdout",
     "output_type": "stream",
     "text": [
      "Original array: \n",
      "[[0.07252149 0.08738211 0.74006201 0.23003313]\n",
      " [0.97105561 0.6992084  0.47103063 0.45139093]\n",
      " [0.36966211 0.17525166 0.38026682 0.98249417]\n",
      " [0.70289645 0.71746149 0.73055903 0.98379222]\n",
      " [0.5140305  0.15233475 0.40069358 0.98674902]\n",
      " [0.97690564 0.00829046 0.31005207 0.62216031]\n",
      " [0.21488802 0.13705668 0.21614223 0.35895641]\n",
      " [0.77722422 0.63592167 0.54168315 0.57721851]\n",
      " [0.1718276  0.74573876 0.71244937 0.18233679]\n",
      " [0.12536113 0.66204757 0.24543169 0.55086918]]\n",
      "First 5 rows of the above array:\n",
      "[[0.07252149 0.08738211 0.74006201 0.23003313]\n",
      " [0.97105561 0.6992084  0.47103063 0.45139093]\n",
      " [0.36966211 0.17525166 0.38026682 0.98249417]\n",
      " [0.70289645 0.71746149 0.73055903 0.98379222]\n",
      " [0.5140305  0.15233475 0.40069358 0.98674902]]\n"
     ]
    }
   ],
   "source": [
    "# Solution to question 17 Write a NumPy program to create a random 10x4\n",
    "# array and extract the first five rows of the array and store\n",
    "# them into a variable.\n",
    "x = np.random.rand(10, 4)\n",
    "print(\"Original array: \")\n",
    "print(x)\n",
    "y= x[:5, :]\n",
    "print(\"First 5 rows of the above array:\")\n",
    "print(y)"
   ]
  },
  {
   "cell_type": "code",
   "execution_count": 2,
   "metadata": {},
   "outputs": [
    {
     "name": "stdout",
     "output_type": "stream",
     "text": [
      "[3 4 5 6]\n"
     ]
    }
   ],
   "source": [
    "# Solution of Question 18 Write a NumPy program to get the unique elements of\n",
    "# a 1D and 2D array.\n",
    "import numpy as np\n",
    "rr = np.array([3, 3, 4, 5, 6, 5, 6, 4]) \n",
    "# find unique element  from a 1 D array \n",
    "rslt = np.unique(rr)\n",
    "print(rslt)"
   ]
  },
  {
   "cell_type": "code",
   "execution_count": 4,
   "metadata": {},
   "outputs": [
    {
     "name": "stdout",
     "output_type": "stream",
     "text": [
      "[3 4 7 9]\n"
     ]
    }
   ],
   "source": [
    "#Unique Element form 2d\n",
    "arr = np.array([[9, 9, 7, 7], \n",
    "              [3, 4, 3, 4]]) \n",
    "  \n",
    "# find unique element from a 2 D array \n",
    "rslt = np.unique(arr) \n",
    "print(rslt)"
   ]
  },
  {
   "cell_type": "code",
   "execution_count": 6,
   "metadata": {},
   "outputs": [
    {
     "name": "stdout",
     "output_type": "stream",
     "text": [
      "[-10.    -0.2   12.12]\n"
     ]
    }
   ],
   "source": [
    "# Solution of Question 19  Write a NumPy program to get the unique elements of\n",
    "# an array. # As per the question we have three element\n",
    "arr= np.array([ -10, 12.12,-0.2])\n",
    "rslt = np.unique(arr) \n",
    "print(rslt)"
   ]
  },
  {
   "cell_type": "code",
   "execution_count": 7,
   "metadata": {},
   "outputs": [
    {
     "name": "stdout",
     "output_type": "stream",
     "text": [
      "Original array:\n",
      "[[ 0  1  2]\n",
      " [ 3  4  5]\n",
      " [ 6  7  8]\n",
      " [ 9 10 11]]\n",
      "After loading, content of the text file:\n",
      "[[ 0.  1.  2.]\n",
      " [ 3.  4.  5.]\n",
      " [ 6.  7.  8.]\n",
      " [ 9. 10. 11.]]\n"
     ]
    }
   ],
   "source": [
    "# Solution Question 20 Write a NumPy program to save a given array to a text\n",
    "# file and load it. You have to save and load files using\n",
    "# numpy library\n",
    "import os\n",
    "x = np.arange(12).reshape(4, 3)\n",
    "print(\"Original array:\")\n",
    "print(x)\n",
    "header = 'col1 col2 col3'\n",
    "np.savetxt('temp.txt', x, fmt=\"%d\", header=header) \n",
    "print(\"After loading, content of the text file:\")\n",
    "result = np.loadtxt('temp.txt')\n",
    "print(result)"
   ]
  },
  {
   "cell_type": "code",
   "execution_count": null,
   "metadata": {},
   "outputs": [],
   "source": []
  }
 ],
 "metadata": {
  "kernelspec": {
   "display_name": "Python 3",
   "language": "python",
   "name": "python3"
  },
  "language_info": {
   "codemirror_mode": {
    "name": "ipython",
    "version": 3
   },
   "file_extension": ".py",
   "mimetype": "text/x-python",
   "name": "python",
   "nbconvert_exporter": "python",
   "pygments_lexer": "ipython3",
   "version": "3.8.3"
  }
 },
 "nbformat": 4,
 "nbformat_minor": 4
}
