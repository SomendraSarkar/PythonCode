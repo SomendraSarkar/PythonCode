{
 "cells": [
  {
   "cell_type": "markdown",
   "metadata": {},
   "source": [
    "# Python Assignment - 5\n",
    "## Conditional Statements"
   ]
  },
  {
   "cell_type": "markdown",
   "metadata": {},
   "source": [
    "## Question 1\n",
    "Take two integer values from the user and print greatest\n",
    "among them."
   ]
  },
  {
   "cell_type": "code",
   "execution_count": 4,
   "metadata": {},
   "outputs": [
    {
     "name": "stdout",
     "output_type": "stream",
     "text": [
      "Enter First Integer: \n",
      "None8\n",
      "Enter Second Integer: \n",
      "None9\n",
      "Greatest among the two is 9\n"
     ]
    }
   ],
   "source": [
    "a1 = int(input(print(\"Enter First Integer: \")))\n",
    "a2 = int(input(print(\"Enter Second Integer: \")))\n",
    "if a1>a2:\n",
    "    print(\"Greatest among the two is\",a1)\n",
    "elif a2>a1:\n",
    "    print(\"Greatest among the two is\",a2)\n",
    "else:\n",
    "    print(\"Both are equalto \",a1)"
   ]
  },
  {
   "cell_type": "markdown",
   "metadata": {},
   "source": [
    "## Question 2\n",
    "Write a program that reads an integer from the user. Then\n",
    "your program should display a message indicating\n",
    "whether the integer is even or odd."
   ]
  },
  {
   "cell_type": "code",
   "execution_count": 6,
   "metadata": {},
   "outputs": [
    {
     "name": "stdout",
     "output_type": "stream",
     "text": [
      "Enter the integer:\n",
      "None8\n",
      "8  is even\n"
     ]
    }
   ],
   "source": [
    "a3 = int(input(print(\"Enter the integer:\")))\n",
    "if a3%2 == 0:\n",
    "    print(a3, \" is even\")\n",
    "else:\n",
    "    print(a3, \" is odd\")"
   ]
  },
  {
   "cell_type": "markdown",
   "metadata": {},
   "source": [
    "## Question 3\n",
    "Create a program that reads a letter of the alphabet from\n",
    "the user. If the user enters a, e, i, o or u then your program\n",
    "should display a message indicating that the entered letter is\n",
    "a vowel. If the user enters y then your program should\n",
    "display a message indicating that sometimes y is a vowel,\n",
    "and sometimes y is a consonant. Otherwise your program\n",
    "should display a message indicating that the letter is a\n",
    "consonant."
   ]
  },
  {
   "cell_type": "code",
   "execution_count": 15,
   "metadata": {},
   "outputs": [
    {
     "name": "stdout",
     "output_type": "stream",
     "text": [
      "Enter the alphabet:\n",
      "NoneL\n",
      "L  is a consonant\n"
     ]
    }
   ],
   "source": [
    "vowel = ['a,','e','i', 'o', 'u']\n",
    "a4 = input(print(\"Enter the alphabet:\"))\n",
    "if a4.lower() == 'y':\n",
    "    print(\"that sometimes y is a vowel,and sometimes y is a consonant.\")\n",
    "elif a4.lower() in vowel:\n",
    "    print(a4, \" is a vowel\")\n",
    "else:\n",
    "    print(a4, \" is a consonant\")"
   ]
  },
  {
   "cell_type": "markdown",
   "metadata": {},
   "source": [
    "## Question 4\n",
    "A triangle can be classified based on the lengths of its\n",
    "sides as equilateral, isosceles or scalene. All three sides of an\n",
    "equilateral triangle have the same length. An isosceles\n",
    "triangle has two sides that are the same length, and a third\n",
    "side that is a different length. If all of the sides have different\n",
    "lengths then the triangle is scalene. Write a program that\n",
    "reads the lengths of the three sides of a triangle from the user.\n",
    "Then display a message that states the triangle’s type."
   ]
  },
  {
   "cell_type": "code",
   "execution_count": 20,
   "metadata": {},
   "outputs": [
    {
     "name": "stdout",
     "output_type": "stream",
     "text": [
      "Enter the first side: \n",
      "None8.6\n",
      "Enter the second side: \n",
      "None3.999\n",
      "Enter the third side: \n",
      "None6.69\n",
      "These are sides of an scalene triangle\n"
     ]
    }
   ],
   "source": [
    "s1 = float(input(print(\"Enter the first side: \")))\n",
    "s2 = float(input(print(\"Enter the second side: \")))\n",
    "s3 = float(input(print(\"Enter the third side: \")))\n",
    "if s1 == s2 and s2 == s3:\n",
    "    print(\"These are sides of an equilateral triangle\")\n",
    "elif s1 ==s2 or s2 == s3 or s1 == s3:\n",
    "    print(\"These are sides of an isosceles triangle\")\n",
    "else:\n",
    "    print(\"These are sides of an scalene triangle\")"
   ]
  },
  {
   "cell_type": "markdown",
   "metadata": {},
   "source": [
    "## Question 5\n",
    "Write a program that determines the name of a shape\n",
    "from its number of sides. Read the number of sides from the\n",
    "user and then report the appropriate name as part of a\n",
    "meaningful message. Your program should support shapes\n",
    "with anywhere from 3 up to (and including) 10 sides. If a\n",
    "number of sides outside of this range is entered then your\n",
    "program should display an appropriate error message."
   ]
  },
  {
   "cell_type": "code",
   "execution_count": null,
   "metadata": {},
   "outputs": [],
   "source": [
    "Polygon {3:\"Triangle\",4:\"Quadilateral\",5:\"Pentagon\",6:\"Hexagon\"\n",
    "        , 7:\"Heptagon\",8:\"Octagon\",9:\"Nonagon\",10:}"
   ]
  }
 ],
 "metadata": {
  "kernelspec": {
   "display_name": "Python 3",
   "language": "python",
   "name": "python3"
  },
  "language_info": {
   "codemirror_mode": {
    "name": "ipython",
    "version": 3
   },
   "file_extension": ".py",
   "mimetype": "text/x-python",
   "name": "python",
   "nbconvert_exporter": "python",
   "pygments_lexer": "ipython3",
   "version": "3.8.3"
  }
 },
 "nbformat": 4,
 "nbformat_minor": 4
}
