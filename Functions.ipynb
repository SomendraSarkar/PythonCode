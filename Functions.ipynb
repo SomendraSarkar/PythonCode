{
 "cells": [
  {
   "cell_type": "code",
   "execution_count": 1,
   "metadata": {},
   "outputs": [
    {
     "name": "stdout",
     "output_type": "stream",
     "text": [
      "Original String :  Chris Morris sold to RCB for INR 16.25 Crore\n",
      "No. of Upper case characters :  9\n",
      "No. of Lower case Characters :  22\n"
     ]
    }
   ],
   "source": [
    "## Solution to first Question\n",
    "##Write a Python function that accepts a string and\n",
    "## calculates the number of uppercase letters and lowercase\n",
    "## letters.\n",
    "def string_Uc_lc(s):\n",
    "    d={\"UPPER\":0, \"LOWER\":0}\n",
    "    for c in s:\n",
    "        if c.isupper():\n",
    "            d[\"UPPER\"]+=1\n",
    "        elif c.islower():\n",
    "            d[\"LOWER\"]+=1\n",
    "        else:\n",
    "            pass\n",
    "    print (\"Original String : \", s)\n",
    "    print (\"No. of Upper case characters : \", d[\"UPPER\"])\n",
    "    print (\"No. of Lower case characters : \", d[\"LOWER\"])\n",
    "\n",
    "string_Uc_lc('Chris Morris sold to RCB for INR 16.25 Crore')\n"
   ]
  },
  {
   "cell_type": "code",
   "execution_count": 2,
   "metadata": {},
   "outputs": [
    {
     "name": "stdout",
     "output_type": "stream",
     "text": [
      "[1, 4, 9, 16, 25, 36, 49, 64, 81, 100, 121, 144, 169, 196, 225, 256, 289, 324, 361, 400, 441, 484, 529, 576, 625, 676, 729, 784, 841, 900]\n"
     ]
    }
   ],
   "source": [
    "## Solution to 2nd Question\n",
    "##Write a Python function to create and print a list where\n",
    "## the values are squares of numbers between 1 and 30 (both\n",
    "## included).\n",
    "\n",
    "def squares_1_30():\n",
    "    list1 = list()\n",
    "    for i in range(1,31):\n",
    "        list1.append(i**2)\n",
    "    print(list1)\n",
    "\n",
    "squares_1_30()"
   ]
  },
  {
   "cell_type": "code",
   "execution_count": 7,
   "metadata": {},
   "outputs": [
    {
     "name": "stdout",
     "output_type": "stream",
     "text": [
      "The list : [10, 20, 30, 40, 50, 60, 70]\n",
      "The numbers greater than 30 : 4\n"
     ]
    }
   ],
   "source": [
    "## Solution to question 3\n",
    "## Create a function that counts the number of elements within a list that are greater than 30.\n",
    "\n",
    "List2 = [10, 20, 30, 40, 50, 60, 70] \n",
    "   \n",
    "c = 0\n",
    "for i in List2 : \n",
    "    if i > 30 : \n",
    "        c +=1\n",
    "        \n",
    "print (\"The list : \" + str(List2)) \n",
    "print ('The numbers greater than 30 : ' + str(c))"
   ]
  },
  {
   "cell_type": "code",
   "execution_count": 12,
   "metadata": {},
   "outputs": [
    {
     "name": "stdout",
     "output_type": "stream",
     "text": [
      "[1, 2, 3, 4, 5]\n"
     ]
    }
   ],
   "source": [
    "## Solution to Question 4\n",
    "## Write a Python function that takes a list and returns a new list with unique elements of the first list.\n",
    "\n",
    "def unique_list(l):\n",
    "    List3 = []\n",
    "    for a in l:\n",
    "        if a not in List3:\n",
    "            List3.append(a)\n",
    "    return List3\n",
    "\n",
    "list4 = [1,2,3,3,3,3,4,4,5,5]\n",
    "print(unique_list(list4))"
   ]
  },
  {
   "cell_type": "code",
   "execution_count": 14,
   "metadata": {},
   "outputs": [
    {
     "name": "stdout",
     "output_type": "stream",
     "text": [
      "Dinesh 9000\n",
      "Glenn 14250\n"
     ]
    }
   ],
   "source": [
    "## Solution to Question 5\n",
    "## Create a function showEmployee() in such a way that it should accept employee name, and it’s salary and display\n",
    "## both, and if the salary is missing in function call it should show it as 9000\n",
    "\n",
    "def showEmployee(employee_name, salary = 9000):\n",
    "    print(employee_name , salary)\n",
    "    \n",
    "showEmployee('Dinesh')\n",
    "showEmployee('Glenn', 14250)"
   ]
  },
  {
   "cell_type": "code",
   "execution_count": 16,
   "metadata": {},
   "outputs": [
    {
     "name": "stdout",
     "output_type": "stream",
     "text": [
      "Original arrays:\n",
      "[1, 2, 3, 4, 5, 6, 7, 8, 9, 10, 11, 12, 13, 14]\n",
      "\n",
      "Number of even numbers in the above array:  7\n",
      "\n",
      "Number of odd numbers in the above array:  7\n"
     ]
    }
   ],
   "source": [
    "## Solution to Question 6\n",
    "## Write a Python program to count the even, odd numbers in a given array of integers using Lambda.\n",
    "\n",
    "array_num = [1, 2, 3, 4, 5, 6, 7, 8, 9, 10, 11, 12, 13, 14]\n",
    "print(\"Original arrays:\")\n",
    "print(array_num)\n",
    "odd_cnt = len(list(filter(lambda x: (x%2 != 0) , array_num)))\n",
    "even_cnt = len(list(filter(lambda x: (x%2 == 0) , array_num)))\n",
    "print(\"\\nNumber of even numbers in the above array: \", even_cnt)\n",
    "print(\"\\nNumber of odd numbers in the above array: \", odd_cnt)"
   ]
  },
  {
   "cell_type": "code",
   "execution_count": 19,
   "metadata": {},
   "outputs": [
    {
     "name": "stdout",
     "output_type": "stream",
     "text": [
      "Original list:\n",
      "[1, 2, 3, 4] [4, 5, 6, 4]\n",
      "\n",
      "Result: after adding two list\n",
      "[5, 7, 9, 8]\n"
     ]
    }
   ],
   "source": [
    "## Solution to Question 7\n",
    "## Write a Python program to add two given lists using map and lambda\n",
    "\n",
    "List5 = [1, 2, 3, 4]\n",
    "List6 = [4, 5, 6, 4]\n",
    "print(\"Original list:\")\n",
    "print(List5,List6)\n",
    "add_list = map(lambda x, y: x + y, List5, List6)\n",
    "print(\"\\nResult: after adding two list\")\n",
    "print(list(add_list))"
   ]
  },
  {
   "cell_type": "code",
   "execution_count": 20,
   "metadata": {},
   "outputs": [
    {
     "name": "stdout",
     "output_type": "stream",
     "text": [
      "Original arrays:\n",
      "[-1, 2, -3, 5, 7, 8, 9, -10]\n",
      "\n",
      "Rearrange positive and negative numbers of the said array:\n",
      "[-1, -3, -10, 2, 5, 7, 8, 9]\n"
     ]
    }
   ],
   "source": [
    "## Solution to Question 8\n",
    "## Write a Python program to rearrange positive and negative numbers in a given array using Lambda and filter\n",
    "array_nums = [-1, 2, -3, 5, 7, 8, 9, -10]\n",
    "print(\"Original arrays:\")\n",
    "print(array_nums)\n",
    "result = [x for x in array_nums if x < 0] + [x for x in array_nums if x >= 0]\n",
    "print(\"\\nRearrange positive and negative numbers of the said array:\")\n",
    "print(result)"
   ]
  },
  {
   "cell_type": "code",
   "execution_count": 21,
   "metadata": {},
   "outputs": [
    {
     "name": "stdout",
     "output_type": "stream",
     "text": [
      "Original list of integers:  [1, 2, 3, 4, 5, 6, 7, 8, 9, 10]\n",
      "\n",
      "Even numbers from the said list:\n",
      "[2, 4, 6, 8, 10]\n",
      "\n",
      "Odd numbers from the said list:\n",
      "[1, 3, 5, 7, 9]\n"
     ]
    }
   ],
   "source": [
    "## Solution to Question 9\n",
    "## Write a Python program to filter a list of integers using Lambda.\n",
    "List7 = [1, 2, 3, 4, 5, 6, 7, 8, 9, 10]\n",
    "print(\"Original list of integers: \", List7)\n",
    "print(\"\\nEven numbers from the said list:\")\n",
    "even_nums = list(filter(lambda x: x%2 == 0, List7))\n",
    "print(even_nums)\n",
    "print(\"\\nOdd numbers from the said list:\")\n",
    "odd_nums = list(filter(lambda x: x%2 != 0, List7))\n",
    "print(odd_nums)"
   ]
  },
  {
   "cell_type": "code",
   "execution_count": 22,
   "metadata": {},
   "outputs": [
    {
     "name": "stdout",
     "output_type": "stream",
     "text": [
      "Original arrays:\n",
      "[1, 2, 3, 5, 7, 8, 9, 10]\n",
      "[1, 2, 4, 8, 9]\n",
      "\n",
      "Intersection of the said arrays:  [1, 2, 8, 9]\n"
     ]
    }
   ],
   "source": [
    "## Solution to question 10\n",
    "## Write a Python program to find the intersection of two given arrays using Lambda and filter.\n",
    "array_nums1 = [1, 2, 3, 5, 7, 8, 9, 10]\n",
    "array_nums2 = [1, 2, 4, 8, 9]\n",
    "print(\"Original arrays:\")\n",
    "print(array_nums1)\n",
    "print(array_nums2)\n",
    "result = list(filter(lambda x: x in array_nums1, array_nums2)) \n",
    "print (\"\\nIntersection of the said arrays: \",result)"
   ]
  },
  {
   "cell_type": "code",
   "execution_count": null,
   "metadata": {},
   "outputs": [],
   "source": []
  }
 ],
 "metadata": {
  "kernelspec": {
   "display_name": "Python 3",
   "language": "python",
   "name": "python3"
  },
  "language_info": {
   "codemirror_mode": {
    "name": "ipython",
    "version": 3
   },
   "file_extension": ".py",
   "mimetype": "text/x-python",
   "name": "python",
   "nbconvert_exporter": "python",
   "pygments_lexer": "ipython3",
   "version": "3.8.3"
  }
 },
 "nbformat": 4,
 "nbformat_minor": 4
}
