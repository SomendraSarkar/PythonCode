{
 "cells": [
  {
   "cell_type": "code",
   "execution_count": 4,
   "metadata": {},
   "outputs": [],
   "source": [
    "## Solution to First Question\n",
    "## Write a python code to open a file for appending data.\n",
    "file1 = open(\"Sample1.txt\", \"w\") \n",
    "L = [\"KKR Bought Shakib \\n\", \"RCB bought Glenn Maxwell \\n\", \"Mumbai Bought Parthiv\"] \n",
    "file1.writelines(L) \n",
    "file1.close()"
   ]
  },
  {
   "cell_type": "code",
   "execution_count": 3,
   "metadata": {},
   "outputs": [
    {
     "name": "stdout",
     "output_type": "stream",
     "text": [
      "KK\n"
     ]
    }
   ],
   "source": [
    "## Read Two Characters\n",
    "# Reading a file \n",
    "f = open(\"Sample1.txt\", 'r') \n",
    "  \n",
    "#read() \n",
    "text = f.read(2)\n",
    "  \n",
    "print(text) \n",
    "f.close()"
   ]
  },
  {
   "cell_type": "code",
   "execution_count": 6,
   "metadata": {},
   "outputs": [
    {
     "name": "stdout",
     "output_type": "stream",
     "text": [
      "['KKR Bought Shakib \\n', 'RCB bought Glenn Maxwell \\n', 'Mumbai Bought Parthiv']\n"
     ]
    }
   ],
   "source": [
    "## Solution to Question 3\n",
    "# Reading a file \n",
    "f = open(\"Sample1.txt\", 'r') \n",
    "  \n",
    "#read()\n",
    "text = f.readlines()\n",
    "  \n",
    "print(text) \n",
    "f.close()"
   ]
  },
  {
   "cell_type": "code",
   "execution_count": 8,
   "metadata": {},
   "outputs": [
    {
     "name": "stdout",
     "output_type": "stream",
     "text": [
      "Line No 0 - KKR Bought Shakib \n",
      "\n",
      "Line No 1 - RCB bought Glenn Maxwell \n",
      "\n",
      "Line No 2 - Mumbai Bought Parthiv\n"
     ]
    }
   ],
   "source": [
    "## Solution to Question 4\n",
    "# Reading a file \n",
    "f = open(\"Sample1.txt\", 'r') \n",
    "\n",
    "for index in range(3):\n",
    "    line = f.readline()\n",
    "    print (\"Line No %d - %s\" % (index, line))\n",
    "\n",
    "f.close()"
   ]
  },
  {
   "cell_type": "code",
   "execution_count": 10,
   "metadata": {},
   "outputs": [
    {
     "name": "stdout",
     "output_type": "stream",
     "text": [
      "[75, 75, 82, 32, 66, 111, 117, 103, 104, 116, 32, 83, 104, 97, 107, 105, 98, 32, 13, 10, 82, 67, 66, 32, 98, 111, 117, 103, 104, 116, 32, 71, 108, 101, 110, 110, 32, 77, 97, 120, 119, 101, 108, 108, 32, 13, 10, 77, 117, 109, 98, 97, 105, 32, 66, 111, 117, 103, 104, 116, 32, 80, 97, 114, 116, 104, 105, 118]\n"
     ]
    }
   ],
   "source": [
    "##Solution to Question 5\n",
    "f=open(\"Sample1.txt\",\"rb\")\n",
    "num=list(f.read())\n",
    "print (num)\n",
    "f.close()"
   ]
  },
  {
   "cell_type": "code",
   "execution_count": null,
   "metadata": {},
   "outputs": [],
   "source": []
  }
 ],
 "metadata": {
  "kernelspec": {
   "display_name": "Python 3",
   "language": "python",
   "name": "python3"
  },
  "language_info": {
   "codemirror_mode": {
    "name": "ipython",
    "version": 3
   },
   "file_extension": ".py",
   "mimetype": "text/x-python",
   "name": "python",
   "nbconvert_exporter": "python",
   "pygments_lexer": "ipython3",
   "version": "3.8.3"
  }
 },
 "nbformat": 4,
 "nbformat_minor": 4
}
